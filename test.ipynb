{
 "cells": [
  {
   "cell_type": "code",
   "execution_count": 62,
   "metadata": {},
   "outputs": [],
   "source": [
    "import Regression as reg\r\n",
    "import numpy as np\r\n",
    "from sklearn import datasets\r\n",
    "from sklearn.metrics import mean_squared_error, r2_score\r\n",
    "import matplotlib.pyplot as plt"
   ]
  },
  {
   "cell_type": "code",
   "execution_count": 49,
   "metadata": {},
   "outputs": [],
   "source": [
    "# Load the diabetes dataset\r\n",
    "diabetes_X, diabetes_y = datasets.load_diabetes(return_X_y=True)\r\n",
    "\r\n",
    "# Use only one feature\r\n",
    "diabetes_X = diabetes_X[:, np.newaxis, 2]\r\n",
    "\r\n",
    "# Split the data into training/testing sets\r\n",
    "diabetes_X_train = diabetes_X[:-20]\r\n",
    "diabetes_X_test = diabetes_X[-20:]\r\n",
    "\r\n",
    "# Split the targets into training/testing sets\r\n",
    "diabetes_y_train = diabetes_y[:-20]\r\n",
    "diabetes_y_test = diabetes_y[-20:]"
   ]
  },
  {
   "cell_type": "code",
   "execution_count": 50,
   "metadata": {},
   "outputs": [],
   "source": [
    "############## You May Use dataset and the test/training split from sklearn ################\r\n",
    "\r\n",
    "## MODEL BENCHMARK\r\n",
    "# Create linear regression object\r\n",
    "regr = reg.LinearRegression()\r\n",
    "\r\n",
    "# Train the model using the training sets\r\n",
    "regr.fit(diabetes_X_train, diabetes_y_train)\r\n",
    "\r\n",
    "# Make predictions using the testing set\r\n",
    "diabetes_y_pred = regr.predict(diabetes_X_test)"
   ]
  },
  {
   "cell_type": "code",
   "execution_count": 51,
   "metadata": {},
   "outputs": [
    {
     "name": "stdout",
     "output_type": "stream",
     "text": [
      "Mean squared error: 2559.79\n",
      "Coefficient of determination: 0.47\n"
     ]
    }
   ],
   "source": [
    "print('Mean squared error: %.2f'\r\n",
    "      % mean_squared_error(diabetes_y_test, diabetes_y_pred))\r\n",
    "# The coefficient of determination: 1 is perfect prediction\r\n",
    "print('Coefficient of determination: %.2f'\r\n",
    "      % r2_score(diabetes_y_test, diabetes_y_pred))"
   ]
  },
  {
   "cell_type": "code",
   "execution_count": 52,
   "metadata": {},
   "outputs": [
    {
     "data": {
      "image/png": "[encoded data removed]",
      "text/plain": [
       "<Figure size 432x288 with 1 Axes>"
      ]
     },
     "metadata": {
      "needs_background": "light"
     },
     "output_type": "display_data"
    }
   ],
   "source": [
    "# Plot outputs\r\n",
    "plt.scatter(diabetes_X_test, diabetes_y_test,  color ='black')\r\n",
    "plt.plot(diabetes_X_test, diabetes_y_pred, color ='blue', linewidth=3)\r\n",
    "\r\n",
    "plt.show()"
   ]
  },
  {
   "cell_type": "code",
   "execution_count": 53,
   "metadata": {},
   "outputs": [
    {
     "name": "stdout",
     "output_type": "stream",
     "text": [
      "2559.7871277861836\n"
     ]
    }
   ],
   "source": [
    "d =  diabetes_y_test - diabetes_y_pred\r\n",
    "mse_f = np.mean(d**2)\r\n",
    "print(mse_f)"
   ]
  },
  {
   "cell_type": "markdown",
   "metadata": {},
   "source": [
    "# KNN-Regression"
   ]
  },
  {
   "cell_type": "code",
   "execution_count": 54,
   "metadata": {},
   "outputs": [],
   "source": [
    "import KNNRegresion as kreg"
   ]
  },
  {
   "cell_type": "code",
   "execution_count": 55,
   "metadata": {},
   "outputs": [],
   "source": [
    "np.random.seed(0)\r\n",
    "X = np.sort(5 * np.random.rand(40, 1), axis=0)\r\n",
    "T = np.linspace(0, 5, 500)[:, np.newaxis]\r\n",
    "y = np.sin(X).ravel()\r\n",
    "\r\n",
    "# Add noise to targets\r\n",
    "y[::5] += 1 * (0.5 - np.random.rand(8))"
   ]
  },
  {
   "cell_type": "code",
   "execution_count": 56,
   "metadata": {},
   "outputs": [],
   "source": [
    "n_neighbors = 10\r\n",
    "knn = kreg.KNNRegression(n_neighbors)\r\n",
    "knn = knn.fit(X, y,)"
   ]
  },
  {
   "cell_type": "code",
   "execution_count": 57,
   "metadata": {},
   "outputs": [],
   "source": [
    "pred = knn.predict(T)"
   ]
  },
  {
   "cell_type": "code",
   "execution_count": 58,
   "metadata": {},
   "outputs": [
    {
     "data": {
      "image/png": "[encoded data removed]",
      "text/plain": [
       "<Figure size 432x288 with 1 Axes>"
      ]
     },
     "metadata": {
      "needs_background": "light"
     },
     "output_type": "display_data"
    }
   ],
   "source": [
    "plt.scatter(X, y, color='darkorange', label='data')\r\n",
    "plt.plot(T, pred, color='navy', label='prediction')\r\n",
    "\r\n",
    "plt.legend()\r\n",
    "plt.title(\"KNeighborsRegressor\")\r\n",
    "\r\n",
    "plt.show()"
   ]
  },
  {
   "cell_type": "markdown",
   "metadata": {},
   "source": [
    "# PCA"
   ]
  },
  {
   "cell_type": "code",
   "execution_count": 59,
   "metadata": {},
   "outputs": [],
   "source": [
    "import PCA as pca\r\n",
    "from numpy import array"
   ]
  },
  {
   "cell_type": "code",
   "execution_count": 60,
   "metadata": {},
   "outputs": [
    {
     "name": "stdout",
     "output_type": "stream",
     "text": [
      "[[ 1  2  3]\n",
      " [ 4  5  6]\n",
      " [ 7  8  9]\n",
      " [10 11 12]]\n"
     ]
    }
   ],
   "source": [
    "A = array([[1, 2, 3], [4, 5, 6], [7, 8, 9], [10, 11, 12]])\r\n",
    "print(A)"
   ]
  },
  {
   "cell_type": "code",
   "execution_count": 61,
   "metadata": {},
   "outputs": [
    {
     "name": "stdout",
     "output_type": "stream",
     "text": [
      "[[-0.81649658  0.57735027  0.        ]\n",
      " [ 0.40824829  0.57735027 -0.70710678]\n",
      " [ 0.40824829  0.57735027  0.70710678]]\n",
      "[ 0. 45.  0.]\n",
      "[[-7.79422863e+00 -2.77555756e-16]\n",
      " [-2.59807621e+00 -1.66533454e-16]\n",
      " [ 2.59807621e+00  1.66533454e-16]\n",
      " [ 7.79422863e+00  2.77555756e-16]]\n"
     ]
    }
   ],
   "source": [
    "# create the PCA instance\r\n",
    "pcas = pca.PCA(2)\r\n",
    "# fit on data\r\n",
    "pcas.fit(A,)\r\n",
    "# access values and vectors\r\n",
    "print(pcas.components_)\r\n",
    "print(pcas.explained_variance_)\r\n",
    "# transform data\r\n",
    "B = pcas.transform(A)\r\n",
    "print(B)"
   ]
  }
 ],
 "metadata": {
  "interpreter": {
   "hash": "1fde993c466811034a13a098f99b80b7cdc87584478fdcf9709d40e93e2fb699"
  },
  "kernelspec": {
   "display_name": "Python 3.8.1 64-bit",
   "name": "python3"
  },
  "language_info": {
   "codemirror_mode": {
    "name": "ipython",
    "version": 3
   },
   "file_extension": ".py",
   "mimetype": "text/x-python",
   "name": "python",
   "nbconvert_exporter": "python",
   "pygments_lexer": "ipython3",
   "version": "3.8.1"
  },
  "orig_nbformat": 4
 },
 "nbformat": 4,
 "nbformat_minor": 2
}